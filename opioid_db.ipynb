{
 "cells": [
  {
   "cell_type": "code",
   "execution_count": 1,
   "metadata": {},
   "outputs": [],
   "source": [
    "import psycopg2"
   ]
  },
  {
   "cell_type": "code",
   "execution_count": 3,
   "metadata": {},
   "outputs": [],
   "source": [
    "conn = psycopg2.connect(\"dbname=opioids user=postgres\")\n",
    "cur = conn.cursor()"
   ]
  },
  {
   "cell_type": "code",
   "execution_count": 4,
   "metadata": {},
   "outputs": [],
   "source": [
    "cur.execute(\"\"\" DROP TABLE IF EXISTS data_2018;\"\"\")"
   ]
  },
  {
   "cell_type": "code",
   "execution_count": 5,
   "metadata": {},
   "outputs": [],
   "source": [
    " cur.execute(\"\"\" CREATE TABLE data_2018\n",
    "                 (NDC bigint,\n",
    "                 NDC_numeric bigint,\n",
    "                 PRODNME character varying(50),\n",
    "                 GENNME character varying(50),\n",
    "                 Master_Form character varying(50),\n",
    "                 Class character varying(50),\n",
    "                 Drug character varying(50),\n",
    "                 LongShortActing character varying(50),\n",
    "                 DEAClassCode character varying(50),\n",
    "                 Streng_Per_Unit float,\n",
    "                 UOM_character character varying(50),\n",
    "                 MME_Conversion_Factor character varying(50));\n",
    "                 \"\"\")\n",
    "                 \n",
    "                 "
   ]
  },
  {
   "cell_type": "code",
   "execution_count": 6,
   "metadata": {},
   "outputs": [],
   "source": [
    "cur.execute(\"\"\"COPY data_2018(NDC,\n",
    "                 NDC_numeric,\n",
    "                 PRODNME,\n",
    "                 GENNME,\n",
    "                 Master_Form,\n",
    "                 Class,\n",
    "                 Drug,\n",
    "                 LongShortActing,\n",
    "                 DEAClassCode,\n",
    "                 Streng_Per_Unit,\n",
    "                 UOM_character,\n",
    "                 MME_Conversion_Factor)\n",
    "                FROM '/Volumes/GoogleDrive/My Drive/DS/opioids/CDC_Oral_Morphine_Milligram_Equivalents_Sept_2018 - Opioids.csv' \n",
    "                WITH CSV HEADER;\"\"\")"
   ]
  },
  {
   "cell_type": "code",
   "execution_count": 7,
   "metadata": {},
   "outputs": [],
   "source": [
    "cur.execute(\"SELECT * FROM data_2018;\")"
   ]
  },
  {
   "cell_type": "code",
   "execution_count": 8,
   "metadata": {},
   "outputs": [
    {
     "name": "stdout",
     "output_type": "stream",
     "text": [
      "[(54017613, 54017613, 'BUPRENORPHINE HYDROCHLORIDE', 'Buprenorphine Hydrochloride', 'Tablet', 'Opioid', 'Buprenorphine', 'LA', '3', 2.0, 'MG', None), (54017713, 54017713, 'BUPRENORPHINE HYDROCHLORIDE', 'Buprenorphine Hydrochloride', 'Tablet', 'Opioid', 'Buprenorphine', 'LA', '3', 8.0, 'MG', None), (54018813, 54018813, 'BUPRENORPHINE-NALOXONE', 'Buprenorphine/naloxone', 'Tablet', 'Opioid', 'Buprenorphine', 'LA', '3', 2.0, 'MG', None), (54018913, 54018913, 'BUPRENORPHINE-NALOXONE', 'Buprenorphine/naloxone', 'Tablet', 'Opioid', 'Buprenorphine', 'LA', '3', 8.0, 'MG', None), (93360021, 93360021, 'BUPRENORPHINE', 'Buprenorphine', 'Patch, Extended Release', 'Opioid', 'Buprenorphine', 'LA', '3', 5.0, 'MCG/HR', None)]\n"
     ]
    }
   ],
   "source": [
    "print(cur.fetchall()[:5])"
   ]
  },
  {
   "cell_type": "code",
   "execution_count": 9,
   "metadata": {},
   "outputs": [
    {
     "name": "stdout",
     "output_type": "stream",
     "text": [
      "('data_2018',)\n",
      "('sdud_merged',)\n"
     ]
    }
   ],
   "source": [
    "cur.execute(\"\"\"SELECT table_name FROM information_schema.tables\n",
    "       WHERE table_schema = 'public'\"\"\")\n",
    "\n",
    "for table in cur.fetchall():\n",
    "    print(table)"
   ]
  },
  {
   "cell_type": "code",
   "execution_count": 10,
   "metadata": {},
   "outputs": [],
   "source": [
    "cur.close()\n",
    "        # commit the changes\n",
    "conn.commit()"
   ]
  },
  {
   "cell_type": "code",
   "execution_count": null,
   "metadata": {},
   "outputs": [],
   "source": []
  },
  {
   "cell_type": "code",
   "execution_count": null,
   "metadata": {},
   "outputs": [],
   "source": []
  }
 ],
 "metadata": {
  "kernelspec": {
   "display_name": "Python 3",
   "language": "python",
   "name": "python3"
  },
  "language_info": {
   "codemirror_mode": {
    "name": "ipython",
    "version": 3
   },
   "file_extension": ".py",
   "mimetype": "text/x-python",
   "name": "python",
   "nbconvert_exporter": "python",
   "pygments_lexer": "ipython3",
   "version": "3.7.1"
  }
 },
 "nbformat": 4,
 "nbformat_minor": 2
}
