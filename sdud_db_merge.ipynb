{
 "cells": [
  {
   "cell_type": "code",
   "execution_count": 1,
   "metadata": {},
   "outputs": [],
   "source": [
    "import numpy as np\n",
    "import pandas as pd\n",
    "from sodapy import Socrata\n",
    "import psycopg2\n",
    "from psycopg2 import sql\n",
    "from psycopg2.extensions import register_adapter, AsIs\n",
    "import chart_studio.plotly as py\n",
    "import plotly.graph_objects as go\n",
    "from sqlalchemy import create_engine\n",
    "\n",
    "conn = psycopg2.connect(\"dbname=opioids user=postgres\")\n",
    "cur = conn.cursor()\n",
    "            \n",
    "engine = create_engine('postgresql://postgres@localhost:5432/opioids')\n"
   ]
  },
  {
   "cell_type": "code",
   "execution_count": 2,
   "metadata": {
    "slideshow": {
     "slide_type": "-"
    }
   },
   "outputs": [],
   "source": [
    "client = Socrata(\"data.medicaid.gov\", \n",
    "                 \"5lSu1fL0xcZHjXcMJyWifYP5n\", \n",
    "                 username = \"davidby332@gmail.com\", \n",
    "                 password = \"Buf01r08!\")"
   ]
  },
  {
   "cell_type": "code",
   "execution_count": 3,
   "metadata": {},
   "outputs": [],
   "source": [
    "par_tup = (AsIs('NDC_Numeric'), AsIs('prodnme'), AsIs('gennme'))\n",
    "\n",
    "query = sql.SQL(\"select %s, %s, %s from {table}\").format(\n",
    "                table=sql.Identifier('data_2018'))\n",
    "\n",
    "opi_cdc = pd.read_sql_query(query, \n",
    "                           con = conn,\n",
    "                           params =  par_tup)\n",
    "\n",
    "opi_cdc['gennme'] = opi_cdc['gennme'].str.lower()\n",
    "\n",
    "filler_words = ['hydrochloride', 'sulfate', 'phosphate', 'bitartrate']\n",
    "\n",
    "opi_cdc['gennme'] = opi_cdc['gennme'].str.replace('/', ' ')\n",
    "\n",
    "for word in filler_words:\n",
    "    \n",
    "    opi_cdc['gennme'] = opi_cdc['gennme'].str.replace(word, '')\n",
    "    \n",
    "opi_cdc['gennme'] = opi_cdc['gennme'].str.strip()"
   ]
  },
  {
   "cell_type": "code",
   "execution_count": 4,
   "metadata": {},
   "outputs": [
    {
     "name": "stdout",
     "output_type": "stream",
     "text": [
      "   ndc_numeric                      prodnme                  gennme\n",
      "0     54017613  BUPRENORPHINE HYDROCHLORIDE           buprenorphine\n",
      "1     54017713  BUPRENORPHINE HYDROCHLORIDE           buprenorphine\n",
      "2     54018813       BUPRENORPHINE-NALOXONE  buprenorphine naloxone\n",
      "3     54018913       BUPRENORPHINE-NALOXONE  buprenorphine naloxone\n",
      "4     93360021                BUPRENORPHINE           buprenorphine\n"
     ]
    }
   ],
   "source": [
    "print(opi_cdc.head())"
   ]
  },
  {
   "cell_type": "code",
   "execution_count": 5,
   "metadata": {},
   "outputs": [
    {
     "name": "stdout",
     "output_type": "stream",
     "text": [
      "AL\n",
      "AK\n",
      "AZ\n",
      "AR\n",
      "CA\n",
      "CO\n",
      "CT\n",
      "DE\n",
      "FL\n",
      "GA\n",
      "HI\n",
      "ID\n",
      "IL\n",
      "IN\n",
      "IA\n",
      "KS\n",
      "KY\n",
      "LA\n",
      "ME\n",
      "MA\n",
      "MI\n",
      "MN\n",
      "MS\n",
      "MO\n",
      "MT\n",
      "NE\n",
      "NV\n",
      "NH\n",
      "NJ\n",
      "NM\n",
      "NY\n",
      "NC\n",
      "ND\n",
      "OH\n",
      "OK\n",
      "OR\n",
      "PA\n",
      "RI\n",
      "SC\n",
      "SD\n",
      "TN\n",
      "TX\n",
      "UT\n",
      "VT\n",
      "VA\n",
      "WA\n",
      "WV\n",
      "WI\n",
      "WY\n"
     ]
    }
   ],
   "source": [
    "ndc_list = opi_cdc['ndc_numeric'].unique()\n",
    "\n",
    "ndc_list_str = [str(ndc) for ndc in ndc_list]\n",
    "\n",
    "ndc_df = pd.DataFrame()\n",
    "\n",
    "state_codes = ['AL','AK','AZ','AR','CA','CO','CT','DE','FL','GA','HI','ID','IL','IN','IA','KS','KY',\n",
    "              'LA','ME','MA','MI','MN','MS','MO','MT','NE','NV','NH','NJ','NM','NY','NC','ND','OH',\n",
    "               'OK','OR','PA','RI','SC','SD','TN','TX','UT','VT','VA','WA','WV','WI','WY',]\n",
    "\n",
    "for st in state_codes:\n",
    "    \n",
    "    print (st)\n",
    "\n",
    "    ndc_data = client.get(\"e5ds-i36p\", state_code = st, limit = 1000000)\n",
    "\n",
    "    temp_df = pd.DataFrame.from_records(ndc_data)\n",
    "\n",
    "    temp_df = temp_df[temp_df['ndc'].isin(ndc_list_str)]\n",
    "    \n",
    "    temp_df = temp_df[['ndc', 'state_code', 'number_of_prescriptions', 'product_fda_list_name', 'quarter', 'units_reimbursed']]\n",
    "\n",
    "    ndc_df = ndc_df.append(temp_df)\n"
   ]
  },
  {
   "cell_type": "code",
   "execution_count": 6,
   "metadata": {},
   "outputs": [
    {
     "name": "stdout",
     "output_type": "stream",
     "text": [
      "<class 'pandas.core.frame.DataFrame'>\n",
      "Int64Index: 84645 entries, 581 to 30366\n",
      "Data columns (total 7 columns):\n",
      "ndc                        84645 non-null object\n",
      "state_code                 84645 non-null object\n",
      "number_of_prescriptions    41191 non-null object\n",
      "product_fda_list_name      84645 non-null object\n",
      "quarter                    84645 non-null object\n",
      "units_reimbursed           41191 non-null object\n",
      "year                       84645 non-null int64\n",
      "dtypes: int64(1), object(6)\n",
      "memory usage: 5.2+ MB\n",
      "None\n",
      "              ndc state_code number_of_prescriptions product_fda_list_name  \\\n",
      "581   65162004710         AL                      12             OXYCODONE   \n",
      "997   43386035101         AL                     NaN            Hydrocodon   \n",
      "1026  68308084001         AL                     NaN             Oxycodone   \n",
      "1047  59385002460         AL                     NaN            Belbuca 45   \n",
      "1163  50383028793         AL                     NaN            Buprenorph   \n",
      "\n",
      "     quarter units_reimbursed  year  \n",
      "581        3              447  2018  \n",
      "997        3              NaN  2018  \n",
      "1026       3              NaN  2018  \n",
      "1047       4              NaN  2018  \n",
      "1163       1              NaN  2018  \n",
      "CA    3770\n",
      "NY    3282\n",
      "OH    2770\n",
      "NV    2570\n",
      "GA    2537\n",
      "PA    2470\n",
      "IN    2426\n",
      "FL    2334\n",
      "MI    2325\n",
      "MN    2315\n",
      "NJ    2305\n",
      "KY    2268\n",
      "VA    2231\n",
      "SC    2167\n",
      "WA    2161\n",
      "MA    2147\n",
      "IL    2139\n",
      "TX    1991\n",
      "MS    1946\n",
      "CO    1929\n",
      "LA    1831\n",
      "AZ    1763\n",
      "UT    1736\n",
      "MO    1723\n",
      "NC    1712\n",
      "OR    1690\n",
      "WI    1677\n",
      "IA    1491\n",
      "NH    1470\n",
      "CT    1418\n",
      "NM    1405\n",
      "DE    1350\n",
      "AL    1300\n",
      "OK    1286\n",
      "NE    1240\n",
      "KS    1229\n",
      "ND    1130\n",
      "WV    1113\n",
      "MT    1105\n",
      "TN    1068\n",
      "RI    1052\n",
      "AR    1029\n",
      "ME     958\n",
      "ID     917\n",
      "HI     877\n",
      "AK     874\n",
      "VT     851\n",
      "SD     641\n",
      "WY     626\n",
      "Name: state_code, dtype: int64\n"
     ]
    }
   ],
   "source": [
    "ndc_df['year'] = 2018\n",
    "\n",
    "print(ndc_df.info())\n",
    "\n",
    "print(ndc_df.head())\n",
    "\n",
    "print(ndc_df['state_code'].value_counts())"
   ]
  },
  {
   "cell_type": "code",
   "execution_count": 7,
   "metadata": {},
   "outputs": [],
   "source": [
    "ndc_df['ndc'] = ndc_df['ndc'].values.astype(int)\n",
    "\n",
    "ndc_df['number_of_prescriptions'] = ndc_df['number_of_prescriptions'].values.astype(float)\n",
    "\n",
    "opi_data = ndc_df.merge(opi_cdc, left_on = 'ndc', right_on = 'ndc_numeric')"
   ]
  },
  {
   "cell_type": "code",
   "execution_count": 10,
   "metadata": {},
   "outputs": [],
   "source": [
    "opi_data.to_pickle('/Volumes/GoogleDrive/My Drive/DS/opioids/2018merged.pkl')"
   ]
  },
  {
   "cell_type": "code",
   "execution_count": 11,
   "metadata": {},
   "outputs": [],
   "source": [
    "engine.execute(\"\"\"DROP TABLE IF EXISTS sdud_merged;\"\"\")\n",
    "\n",
    "opi_data.to_sql('sdud_merged', engine)"
   ]
  },
  {
   "cell_type": "code",
   "execution_count": 13,
   "metadata": {},
   "outputs": [
    {
     "data": {
      "text/plain": [
       "(0,\n",
       " 43386035101,\n",
       " 'AL',\n",
       " None,\n",
       " 'Hydrocodon',\n",
       " '3',\n",
       " None,\n",
       " 2018,\n",
       " 43386035101,\n",
       " 'HYDROCODONE BITARTRATE-ACETAMINOPHEN',\n",
       " 'acetaminophen hydrocodone')"
      ]
     },
     "execution_count": 13,
     "metadata": {},
     "output_type": "execute_result"
    }
   ],
   "source": [
    "cur.execute(\"\"\" SELECT *\n",
    "                FROM sdud_merged;\n",
    "                \"\"\")\n",
    "\n",
    "cur.fetchone()"
   ]
  },
  {
   "cell_type": "code",
   "execution_count": 14,
   "metadata": {},
   "outputs": [],
   "source": [
    "cur.close()\n",
    "        # commit the changes\n",
    "conn.commit()"
   ]
  },
  {
   "cell_type": "code",
   "execution_count": null,
   "metadata": {},
   "outputs": [],
   "source": []
  }
 ],
 "metadata": {
  "kernelspec": {
   "display_name": "Python 3",
   "language": "python",
   "name": "python3"
  },
  "language_info": {
   "codemirror_mode": {
    "name": "ipython",
    "version": 3
   },
   "file_extension": ".py",
   "mimetype": "text/x-python",
   "name": "python",
   "nbconvert_exporter": "python",
   "pygments_lexer": "ipython3",
   "version": "3.7.1"
  }
 },
 "nbformat": 4,
 "nbformat_minor": 2
}
