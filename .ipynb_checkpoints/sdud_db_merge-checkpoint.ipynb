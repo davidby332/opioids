{
 "cells": [
  {
   "cell_type": "code",
   "execution_count": 1,
   "metadata": {},
   "outputs": [],
   "source": [
    "import numpy as np\n",
    "import pandas as pd\n",
    "from sodapy import Socrata\n",
    "import psycopg2\n",
    "from psycopg2 import sql\n",
    "from psycopg2.extensions import register_adapter, AsIs\n",
    "import chart_studio.plotly as py\n",
    "import plotly.graph_objects as go\n",
    "\n",
    "conn = psycopg2.connect(\"dbname=opioids user=postgres\")\n",
    "cur = conn.cursor()\n",
    "\n",
    "# API secret 11lbegt5znsqeu493pdvsa1734z2x5o137t7faj42bydd0kyd7\n",
    "\n",
    "# API key 7tvmm5oc0vhrk6hn5t50zqn4q\n"
   ]
  },
  {
   "cell_type": "code",
   "execution_count": 2,
   "metadata": {
    "slideshow": {
     "slide_type": "-"
    }
   },
   "outputs": [],
   "source": [
    "client = Socrata(\"data.medicaid.gov\", \n",
    "                 \"5lSu1fL0xcZHjXcMJyWifYP5n\", \n",
    "                 username = \"davidby332@gmail.com\", \n",
    "                 password = \"Buf01r08!\")"
   ]
  },
  {
   "cell_type": "code",
   "execution_count": 15,
   "metadata": {},
   "outputs": [],
   "source": [
    "par_tup = (AsIs('NDC_Numeric'), AsIs('prodnme'), AsIs('gennme'))\n",
    "\n",
    "query = sql.SQL(\"select %s, %s, %s from {table}\").format(\n",
    "                table=sql.Identifier('data_2018'))\n",
    "\n",
    "opi_cdc = pd.read_sql_query(query, \n",
    "                           con = conn,\n",
    "                           params =  par_tup)\n",
    "\n",
    "opi_cdc['gennme'] = opi_cdc['gennme'].str.lower()\n",
    "\n",
    "filler_words = ['hydrochloride', 'sulfate', 'phosphate', 'bitartrate']\n",
    "\n",
    "opi_cdc['gennme'] = opi_cdc['gennme'].str.replace('/', ' ')\n",
    "\n",
    "for word in filler_words:\n",
    "    \n",
    "    opi_cdc['gennme'] = opi_cdc['gennme'].str.replace(word, '')\n",
    "    \n",
    "opi_cdc['gennme'] = opi_cdc['gennme'].str.strip()"
   ]
  },
  {
   "cell_type": "code",
   "execution_count": 16,
   "metadata": {},
   "outputs": [
    {
     "name": "stdout",
     "output_type": "stream",
     "text": [
      "   ndc_numeric                      prodnme                  gennme\n",
      "0     54017613  BUPRENORPHINE HYDROCHLORIDE           buprenorphine\n",
      "1     54017713  BUPRENORPHINE HYDROCHLORIDE           buprenorphine\n",
      "2     54018813       BUPRENORPHINE-NALOXONE  buprenorphine naloxone\n",
      "3     54018913       BUPRENORPHINE-NALOXONE  buprenorphine naloxone\n",
      "4     93360021                BUPRENORPHINE           buprenorphine\n"
     ]
    }
   ],
   "source": [
    "print(opi_cdc.head())"
   ]
  },
  {
   "cell_type": "code",
   "execution_count": 5,
   "metadata": {},
   "outputs": [],
   "source": [
    "ndc_list = opi_cdc['ndc_numeric'].unique()\n",
    "\n",
    "ndc_list_str = [str(ndc) for ndc in ndc_list]\n",
    "\n",
    "ndc_df = pd.DataFrame()\n",
    "\n",
    "state_codes = ['AL','AK','AZ','AR','CA','CO','CT','DE','FL','GA','HI','ID','IL','IN','IA','KS','KY',\n",
    "              'LA','ME','MA','MI','MN','MS','MO','MT','NE','NV','NH','NJ','NM','NY','NC','ND','OH',\n",
    "               'OK','OR','PA','RI','SC','SD','TN','TX','UT','VT','VA','WA','WV','WI','WY',]\n",
    "\n",
    "for st in state_codes:\n",
    "\n",
    "    ndc_data = client.get(\"e5ds-i36p\", state_code = st, limit = 1000000)\n",
    "\n",
    "    temp_df = pd.DataFrame.from_records(ndc_data)\n",
    "\n",
    "    temp_df = temp_df[temp_df['ndc'].isin(ndc_list_str)]\n",
    "\n",
    "    ndc_df = ndc_df.append(temp_df)\n"
   ]
  },
  {
   "cell_type": "code",
   "execution_count": 6,
   "metadata": {},
   "outputs": [
    {
     "name": "stdout",
     "output_type": "stream",
     "text": [
      "<class 'pandas.core.frame.DataFrame'>\n",
      "Int64Index: 84543 entries, 280 to 30366\n",
      "Data columns (total 21 columns):\n",
      "_latitude                         84543 non-null object\n",
      "_location                         84543 non-null object\n",
      "_longitude                        84543 non-null object\n",
      "_quarter_begin                    84543 non-null object\n",
      "_quarter_begin_date               84543 non-null object\n",
      "labeler_code                      84543 non-null object\n",
      "medicaid_amount_reimbursed        41162 non-null object\n",
      "ndc                               84543 non-null object\n",
      "non_medicaid_amount_reimbursed    41162 non-null object\n",
      "number_of_prescriptions           41162 non-null object\n",
      "package_size                      84543 non-null object\n",
      "period_covered                    84543 non-null object\n",
      "product_code                      84543 non-null object\n",
      "product_fda_list_name             84543 non-null object\n",
      "quarter                           84543 non-null object\n",
      "record_id                         84543 non-null object\n",
      "state_code                        84543 non-null object\n",
      "suppression_used                  84543 non-null bool\n",
      "total_amount_reimbursed           41162 non-null object\n",
      "units_reimbursed                  41162 non-null object\n",
      "year                              84543 non-null int64\n",
      "dtypes: bool(1), int64(1), object(19)\n",
      "memory usage: 13.6+ MB\n",
      "None\n",
      "    _latitude                                          _location _longitude  \\\n",
      "280    32.799  {'latitude': '32.799', 'longitude': '-86.8073'...   -86.8073   \n",
      "309    32.799  {'latitude': '32.799', 'longitude': '-86.8073'...   -86.8073   \n",
      "330    32.799  {'latitude': '32.799', 'longitude': '-86.8073'...   -86.8073   \n",
      "511    32.799  {'latitude': '32.799', 'longitude': '-86.8073'...   -86.8073   \n",
      "545    32.799  {'latitude': '32.799', 'longitude': '-86.8073'...   -86.8073   \n",
      "\n",
      "    _quarter_begin      _quarter_begin_date labeler_code  \\\n",
      "280            7/1  2018-07-01T00:00:00.000        43386   \n",
      "309            7/1  2018-07-01T00:00:00.000        68308   \n",
      "330           10/1  2018-10-01T00:00:00.000        59385   \n",
      "511           10/1  2018-10-01T00:00:00.000        65597   \n",
      "545            4/1  2018-04-01T00:00:00.000        43386   \n",
      "\n",
      "    medicaid_amount_reimbursed          ndc non_medicaid_amount_reimbursed  \\\n",
      "280                        NaN  43386035101                            NaN   \n",
      "309                        NaN  68308084001                            NaN   \n",
      "330                        NaN  59385002460                            NaN   \n",
      "511                        NaN  65597030310                            NaN   \n",
      "545                        NaN  43386054201                            NaN   \n",
      "\n",
      "    number_of_prescriptions  ...  period_covered product_code  \\\n",
      "280                     NaN  ...            2018         0351   \n",
      "309                     NaN  ...            2018         0840   \n",
      "330                     NaN  ...            2018         0024   \n",
      "511                     NaN  ...            2018         0303   \n",
      "545                     NaN  ...            2018         0542   \n",
      "\n",
      "    product_fda_list_name quarter record_id state_code suppression_used  \\\n",
      "280            Hydrocodon       3      FFSU         AL             True   \n",
      "309             Oxycodone       3      FFSU         AL             True   \n",
      "330            Belbuca 45       4      FFSU         AL             True   \n",
      "511            Morphabond       4      FFSU         AL             True   \n",
      "545            Morphine S       2      FFSU         AL             True   \n",
      "\n",
      "     total_amount_reimbursed units_reimbursed  year  \n",
      "280                      NaN              NaN  2018  \n",
      "309                      NaN              NaN  2018  \n",
      "330                      NaN              NaN  2018  \n",
      "511                      NaN              NaN  2018  \n",
      "545                      NaN              NaN  2018  \n",
      "\n",
      "[5 rows x 21 columns]\n",
      "CA    3768\n",
      "NY    3282\n",
      "OH    2768\n",
      "NV    2570\n",
      "GA    2537\n",
      "PA    2469\n",
      "IN    2425\n",
      "FL    2334\n",
      "MN    2316\n",
      "MI    2312\n",
      "NJ    2305\n",
      "KY    2259\n",
      "VA    2230\n",
      "SC    2167\n",
      "WA    2161\n",
      "MA    2145\n",
      "IL    2133\n",
      "TX    1991\n",
      "MS    1958\n",
      "CO    1929\n",
      "LA    1822\n",
      "AZ    1763\n",
      "UT    1736\n",
      "MO    1723\n",
      "NC    1712\n",
      "OR    1690\n",
      "WI    1677\n",
      "IA    1487\n",
      "NH    1472\n",
      "CT    1418\n",
      "NM    1405\n",
      "DE    1349\n",
      "AL    1300\n",
      "OK    1286\n",
      "NE    1240\n",
      "KS    1229\n",
      "ND    1130\n",
      "WV    1113\n",
      "MT    1105\n",
      "RI    1048\n",
      "AR    1029\n",
      "TN    1005\n",
      "ME     958\n",
      "ID     917\n",
      "HI     877\n",
      "AK     875\n",
      "VT     851\n",
      "SD     641\n",
      "WY     626\n",
      "Name: state_code, dtype: int64\n"
     ]
    }
   ],
   "source": [
    "ndc_df['year'] = 2018\n",
    "\n",
    "print(ndc_df.info())\n",
    "\n",
    "print(ndc_df.head())\n",
    "\n",
    "print(ndc_df['state_code'].value_counts())"
   ]
  },
  {
   "cell_type": "code",
   "execution_count": 17,
   "metadata": {},
   "outputs": [],
   "source": [
    "ndc_df['ndc'] = ndc_df['ndc'].values.astype(int)\n",
    "\n",
    "ndc_df['number_of_prescriptions'] = ndc_df['number_of_prescriptions'].values.astype(float)\n",
    "\n",
    "opi_data = ndc_df.merge(opi_cdc, left_on = 'ndc', right_on = 'ndc_numeric')"
   ]
  },
  {
   "cell_type": "code",
   "execution_count": 18,
   "metadata": {},
   "outputs": [
    {
     "name": "stdout",
     "output_type": "stream",
     "text": [
      "    state_code                                 gennme  number_of_prescriptions\n",
      "0           AK                  acetaminophen codeine                   1241.0\n",
      "1           AK              acetaminophen hydrocodone                   4380.0\n",
      "2           AK                acetaminophen oxycodone                   9946.0\n",
      "3           AK      apap butalbital caff codeine phos                     15.0\n",
      "4           AK                          buprenorphine                   1164.0\n",
      "5           AK                 buprenorphine naloxone                  18660.0\n",
      "6           AK                               fentanyl                     94.0\n",
      "7           AK                 hydrocodone  ibuprofen                    309.0\n",
      "8           AK                          hydromorphone                    171.0\n",
      "9           AK                              methadone                    267.0\n",
      "10          AK                               morphine                   2875.0\n",
      "11          AK                              oxycodone                   5586.0\n",
      "12          AK                             tapentadol                    139.0\n",
      "13          AK                               tramadol                   9172.0\n",
      "14          AL  acetaminophen caffeine dihydrocodeine                    196.0\n",
      "15          AL                  acetaminophen codeine                   3946.0\n",
      "16          AL              acetaminophen hydrocodone                  46250.0\n",
      "17          AL                acetaminophen oxycodone                  43164.0\n",
      "18          AL                 acetaminophen tramadol                    694.0\n",
      "19          AL      apap butalbital caff codeine phos                     42.0\n",
      "20          AL    aspirin butalbital caffeine codeine                     61.0\n",
      "21          AL                          buprenorphine                   1437.0\n",
      "22          AL                 buprenorphine naloxone                  27134.0\n",
      "23          AL                   butorphanol tartrate                     17.0\n",
      "24          AL                               fentanyl                    700.0\n",
      "25          AL                 hydrocodone  ibuprofen                   1043.0\n",
      "26          AL                          hydromorphone                    327.0\n",
      "27          AL                              methadone                    181.0\n",
      "28          AL                               morphine                   1993.0\n",
      "29          AL                   morphine  naltrexone                     58.0\n",
      "..         ...                                    ...                      ...\n",
      "809         WI                   morphine  naltrexone                    146.0\n",
      "810         WI                              oxycodone                  72007.0\n",
      "811         WI                            oxymorphone                     56.0\n",
      "812         WI                             tapentadol                    873.0\n",
      "813         WI                               tramadol                  72527.0\n",
      "814         WV                  acetaminophen codeine                   8253.0\n",
      "815         WV              acetaminophen hydrocodone                  43409.0\n",
      "816         WV                acetaminophen oxycodone                  25878.0\n",
      "817         WV                 acetaminophen tramadol                    673.0\n",
      "818         WV      apap butalbital caff codeine phos                    142.0\n",
      "819         WV                          buprenorphine                   2590.0\n",
      "820         WV                 buprenorphine naloxone                 315068.0\n",
      "821         WV                               fentanyl                    585.0\n",
      "822         WV                 hydrocodone  ibuprofen                    352.0\n",
      "823         WV                          hydromorphone                    295.0\n",
      "824         WV                              methadone                    168.0\n",
      "825         WV                               morphine                   2503.0\n",
      "826         WV                   morphine  naltrexone                    612.0\n",
      "827         WV                  naloxone  pentazocine                     36.0\n",
      "828         WV                              oxycodone                  14283.0\n",
      "829         WV                               tramadol                  40001.0\n",
      "830         WY                  acetaminophen codeine                    196.0\n",
      "831         WY              acetaminophen hydrocodone                   1331.0\n",
      "832         WY                acetaminophen oxycodone                   3346.0\n",
      "833         WY                 buprenorphine naloxone                    862.0\n",
      "834         WY                 hydrocodone  ibuprofen                    115.0\n",
      "835         WY                          hydromorphone                     13.0\n",
      "836         WY                               morphine                    417.0\n",
      "837         WY                              oxycodone                   3436.0\n",
      "838         WY                               tramadol                   2196.0\n",
      "\n",
      "[839 rows x 3 columns]\n",
      "<class 'pandas.core.frame.DataFrame'>\n",
      "RangeIndex: 839 entries, 0 to 838\n",
      "Data columns (total 3 columns):\n",
      "state_code                 839 non-null object\n",
      "gennme                     839 non-null object\n",
      "number_of_prescriptions    839 non-null float64\n",
      "dtypes: float64(1), object(2)\n",
      "memory usage: 19.7+ KB\n",
      "None\n"
     ]
    }
   ],
   "source": [
    "opi_data = opi_data[['state_code', 'gennme', 'number_of_prescriptions']].dropna()\n",
    "\n",
    "opi_sum = opi_data.groupby(['state_code', 'gennme']).sum().reset_index()\n",
    "\n",
    "print (opi_sum)\n",
    "\n",
    "print (opi_sum.info())"
   ]
  },
  {
   "cell_type": "code",
   "execution_count": 19,
   "metadata": {},
   "outputs": [
    {
     "name": "stdout",
     "output_type": "stream",
     "text": [
      "   state_code                     gennme  number_of_prescriptions\n",
      "1          AK  acetaminophen hydrocodone                   4380.0\n",
      "16         AL  acetaminophen hydrocodone                  46250.0\n",
      "36         AR  acetaminophen hydrocodone                  25623.0\n",
      "51         AZ  acetaminophen hydrocodone                  59487.0\n",
      "71         CA  acetaminophen hydrocodone                 694911.0\n"
     ]
    },
    {
     "data": {
      "application/vnd.plotly.v1+json": {
       "config": {
        "plotlyServerURL": "https://plot.ly"
       },
       "data": [
        {
         "colorbar": {
          "title": {
           "text": "Number of Prescriptions"
          }
         },
         "colorscale": [
          [
           0,
           "rgb(255,245,240)"
          ],
          [
           0.125,
           "rgb(254,224,210)"
          ],
          [
           0.25,
           "rgb(252,187,161)"
          ],
          [
           0.375,
           "rgb(252,146,114)"
          ],
          [
           0.5,
           "rgb(251,106,74)"
          ],
          [
           0.625,
           "rgb(239,59,44)"
          ],
          [
           0.75,
           "rgb(203,24,29)"
          ],
          [
           0.875,
           "rgb(165,15,21)"
          ],
          [
           1,
           "rgb(103,0,13)"
          ]
         ],
         "locationmode": "USA-states",
         "locations": [
          "AK",
          "AL",
          "AR",
          "AZ",
          "CA",
          "CO",
          "CT",
          "DE",
          "FL",
          "GA",
          "HI",
          "IA",
          "ID",
          "IL",
          "IN",
          "KS",
          "KY",
          "LA",
          "MA",
          "ME",
          "MI",
          "MN",
          "MO",
          "MS",
          "MT",
          "NC",
          "ND",
          "NE",
          "NH",
          "NJ",
          "NM",
          "NV",
          "NY",
          "OH",
          "OK",
          "OR",
          "PA",
          "RI",
          "SC",
          "SD",
          "TN",
          "TX",
          "UT",
          "VA",
          "VT",
          "WA",
          "WI",
          "WV",
          "WY"
         ],
         "type": "choropleth",
         "z": [
          4380,
          46250,
          25623,
          59487,
          694911,
          36610,
          21277,
          1141,
          172333,
          92038,
          24572,
          9899,
          8471,
          106008,
          193218,
          13079,
          104563,
          107165,
          28492,
          7045,
          248902,
          21544,
          50104,
          43773,
          15759,
          74395,
          8451,
          8784,
          1329,
          15829,
          32594,
          69362,
          108013,
          138996,
          32959,
          19477,
          96337,
          13000,
          46632,
          1703,
          50977,
          51059,
          7878,
          43458,
          2468,
          30773,
          33865,
          43409,
          1331
         ]
        }
       ],
       "layout": {
        "autosize": true,
        "geo": {
         "scope": "usa"
        },
        "template": {
         "data": {
          "bar": [
           {
            "error_x": {
             "color": "#2a3f5f"
            },
            "error_y": {
             "color": "#2a3f5f"
            },
            "marker": {
             "line": {
              "color": "#E5ECF6",
              "width": 0.5
             }
            },
            "type": "bar"
           }
          ],
          "barpolar": [
           {
            "marker": {
             "line": {
              "color": "#E5ECF6",
              "width": 0.5
             }
            },
            "type": "barpolar"
           }
          ],
          "carpet": [
           {
            "aaxis": {
             "endlinecolor": "#2a3f5f",
             "gridcolor": "white",
             "linecolor": "white",
             "minorgridcolor": "white",
             "startlinecolor": "#2a3f5f"
            },
            "baxis": {
             "endlinecolor": "#2a3f5f",
             "gridcolor": "white",
             "linecolor": "white",
             "minorgridcolor": "white",
             "startlinecolor": "#2a3f5f"
            },
            "type": "carpet"
           }
          ],
          "choropleth": [
           {
            "colorbar": {
             "outlinewidth": 0,
             "ticks": ""
            },
            "type": "choropleth"
           }
          ],
          "contour": [
           {
            "colorbar": {
             "outlinewidth": 0,
             "ticks": ""
            },
            "colorscale": [
             [
              0,
              "#0d0887"
             ],
             [
              0.1111111111111111,
              "#46039f"
             ],
             [
              0.2222222222222222,
              "#7201a8"
             ],
             [
              0.3333333333333333,
              "#9c179e"
             ],
             [
              0.4444444444444444,
              "#bd3786"
             ],
             [
              0.5555555555555556,
              "#d8576b"
             ],
             [
              0.6666666666666666,
              "#ed7953"
             ],
             [
              0.7777777777777778,
              "#fb9f3a"
             ],
             [
              0.8888888888888888,
              "#fdca26"
             ],
             [
              1,
              "#f0f921"
             ]
            ],
            "type": "contour"
           }
          ],
          "contourcarpet": [
           {
            "colorbar": {
             "outlinewidth": 0,
             "ticks": ""
            },
            "type": "contourcarpet"
           }
          ],
          "heatmap": [
           {
            "colorbar": {
             "outlinewidth": 0,
             "ticks": ""
            },
            "colorscale": [
             [
              0,
              "#0d0887"
             ],
             [
              0.1111111111111111,
              "#46039f"
             ],
             [
              0.2222222222222222,
              "#7201a8"
             ],
             [
              0.3333333333333333,
              "#9c179e"
             ],
             [
              0.4444444444444444,
              "#bd3786"
             ],
             [
              0.5555555555555556,
              "#d8576b"
             ],
             [
              0.6666666666666666,
              "#ed7953"
             ],
             [
              0.7777777777777778,
              "#fb9f3a"
             ],
             [
              0.8888888888888888,
              "#fdca26"
             ],
             [
              1,
              "#f0f921"
             ]
            ],
            "type": "heatmap"
           }
          ],
          "heatmapgl": [
           {
            "colorbar": {
             "outlinewidth": 0,
             "ticks": ""
            },
            "colorscale": [
             [
              0,
              "#0d0887"
             ],
             [
              0.1111111111111111,
              "#46039f"
             ],
             [
              0.2222222222222222,
              "#7201a8"
             ],
             [
              0.3333333333333333,
              "#9c179e"
             ],
             [
              0.4444444444444444,
              "#bd3786"
             ],
             [
              0.5555555555555556,
              "#d8576b"
             ],
             [
              0.6666666666666666,
              "#ed7953"
             ],
             [
              0.7777777777777778,
              "#fb9f3a"
             ],
             [
              0.8888888888888888,
              "#fdca26"
             ],
             [
              1,
              "#f0f921"
             ]
            ],
            "type": "heatmapgl"
           }
          ],
          "histogram": [
           {
            "marker": {
             "colorbar": {
              "outlinewidth": 0,
              "ticks": ""
             }
            },
            "type": "histogram"
           }
          ],
          "histogram2d": [
           {
            "colorbar": {
             "outlinewidth": 0,
             "ticks": ""
            },
            "colorscale": [
             [
              0,
              "#0d0887"
             ],
             [
              0.1111111111111111,
              "#46039f"
             ],
             [
              0.2222222222222222,
              "#7201a8"
             ],
             [
              0.3333333333333333,
              "#9c179e"
             ],
             [
              0.4444444444444444,
              "#bd3786"
             ],
             [
              0.5555555555555556,
              "#d8576b"
             ],
             [
              0.6666666666666666,
              "#ed7953"
             ],
             [
              0.7777777777777778,
              "#fb9f3a"
             ],
             [
              0.8888888888888888,
              "#fdca26"
             ],
             [
              1,
              "#f0f921"
             ]
            ],
            "type": "histogram2d"
           }
          ],
          "histogram2dcontour": [
           {
            "colorbar": {
             "outlinewidth": 0,
             "ticks": ""
            },
            "colorscale": [
             [
              0,
              "#0d0887"
             ],
             [
              0.1111111111111111,
              "#46039f"
             ],
             [
              0.2222222222222222,
              "#7201a8"
             ],
             [
              0.3333333333333333,
              "#9c179e"
             ],
             [
              0.4444444444444444,
              "#bd3786"
             ],
             [
              0.5555555555555556,
              "#d8576b"
             ],
             [
              0.6666666666666666,
              "#ed7953"
             ],
             [
              0.7777777777777778,
              "#fb9f3a"
             ],
             [
              0.8888888888888888,
              "#fdca26"
             ],
             [
              1,
              "#f0f921"
             ]
            ],
            "type": "histogram2dcontour"
           }
          ],
          "mesh3d": [
           {
            "colorbar": {
             "outlinewidth": 0,
             "ticks": ""
            },
            "type": "mesh3d"
           }
          ],
          "parcoords": [
           {
            "line": {
             "colorbar": {
              "outlinewidth": 0,
              "ticks": ""
             }
            },
            "type": "parcoords"
           }
          ],
          "pie": [
           {
            "automargin": true,
            "type": "pie"
           }
          ],
          "scatter": [
           {
            "marker": {
             "colorbar": {
              "outlinewidth": 0,
              "ticks": ""
             }
            },
            "type": "scatter"
           }
          ],
          "scatter3d": [
           {
            "line": {
             "colorbar": {
              "outlinewidth": 0,
              "ticks": ""
             }
            },
            "marker": {
             "colorbar": {
              "outlinewidth": 0,
              "ticks": ""
             }
            },
            "type": "scatter3d"
           }
          ],
          "scattercarpet": [
           {
            "marker": {
             "colorbar": {
              "outlinewidth": 0,
              "ticks": ""
             }
            },
            "type": "scattercarpet"
           }
          ],
          "scattergeo": [
           {
            "marker": {
             "colorbar": {
              "outlinewidth": 0,
              "ticks": ""
             }
            },
            "type": "scattergeo"
           }
          ],
          "scattergl": [
           {
            "marker": {
             "colorbar": {
              "outlinewidth": 0,
              "ticks": ""
             }
            },
            "type": "scattergl"
           }
          ],
          "scattermapbox": [
           {
            "marker": {
             "colorbar": {
              "outlinewidth": 0,
              "ticks": ""
             }
            },
            "type": "scattermapbox"
           }
          ],
          "scatterpolar": [
           {
            "marker": {
             "colorbar": {
              "outlinewidth": 0,
              "ticks": ""
             }
            },
            "type": "scatterpolar"
           }
          ],
          "scatterpolargl": [
           {
            "marker": {
             "colorbar": {
              "outlinewidth": 0,
              "ticks": ""
             }
            },
            "type": "scatterpolargl"
           }
          ],
          "scatterternary": [
           {
            "marker": {
             "colorbar": {
              "outlinewidth": 0,
              "ticks": ""
             }
            },
            "type": "scatterternary"
           }
          ],
          "surface": [
           {
            "colorbar": {
             "outlinewidth": 0,
             "ticks": ""
            },
            "colorscale": [
             [
              0,
              "#0d0887"
             ],
             [
              0.1111111111111111,
              "#46039f"
             ],
             [
              0.2222222222222222,
              "#7201a8"
             ],
             [
              0.3333333333333333,
              "#9c179e"
             ],
             [
              0.4444444444444444,
              "#bd3786"
             ],
             [
              0.5555555555555556,
              "#d8576b"
             ],
             [
              0.6666666666666666,
              "#ed7953"
             ],
             [
              0.7777777777777778,
              "#fb9f3a"
             ],
             [
              0.8888888888888888,
              "#fdca26"
             ],
             [
              1,
              "#f0f921"
             ]
            ],
            "type": "surface"
           }
          ],
          "table": [
           {
            "cells": {
             "fill": {
              "color": "#EBF0F8"
             },
             "line": {
              "color": "white"
             }
            },
            "header": {
             "fill": {
              "color": "#C8D4E3"
             },
             "line": {
              "color": "white"
             }
            },
            "type": "table"
           }
          ]
         },
         "layout": {
          "annotationdefaults": {
           "arrowcolor": "#2a3f5f",
           "arrowhead": 0,
           "arrowwidth": 1
          },
          "coloraxis": {
           "colorbar": {
            "outlinewidth": 0,
            "ticks": ""
           }
          },
          "colorscale": {
           "diverging": [
            [
             0,
             "#8e0152"
            ],
            [
             0.1,
             "#c51b7d"
            ],
            [
             0.2,
             "#de77ae"
            ],
            [
             0.3,
             "#f1b6da"
            ],
            [
             0.4,
             "#fde0ef"
            ],
            [
             0.5,
             "#f7f7f7"
            ],
            [
             0.6,
             "#e6f5d0"
            ],
            [
             0.7,
             "#b8e186"
            ],
            [
             0.8,
             "#7fbc41"
            ],
            [
             0.9,
             "#4d9221"
            ],
            [
             1,
             "#276419"
            ]
           ],
           "sequential": [
            [
             0,
             "#0d0887"
            ],
            [
             0.1111111111111111,
             "#46039f"
            ],
            [
             0.2222222222222222,
             "#7201a8"
            ],
            [
             0.3333333333333333,
             "#9c179e"
            ],
            [
             0.4444444444444444,
             "#bd3786"
            ],
            [
             0.5555555555555556,
             "#d8576b"
            ],
            [
             0.6666666666666666,
             "#ed7953"
            ],
            [
             0.7777777777777778,
             "#fb9f3a"
            ],
            [
             0.8888888888888888,
             "#fdca26"
            ],
            [
             1,
             "#f0f921"
            ]
           ],
           "sequentialminus": [
            [
             0,
             "#0d0887"
            ],
            [
             0.1111111111111111,
             "#46039f"
            ],
            [
             0.2222222222222222,
             "#7201a8"
            ],
            [
             0.3333333333333333,
             "#9c179e"
            ],
            [
             0.4444444444444444,
             "#bd3786"
            ],
            [
             0.5555555555555556,
             "#d8576b"
            ],
            [
             0.6666666666666666,
             "#ed7953"
            ],
            [
             0.7777777777777778,
             "#fb9f3a"
            ],
            [
             0.8888888888888888,
             "#fdca26"
            ],
            [
             1,
             "#f0f921"
            ]
           ]
          },
          "colorway": [
           "#636efa",
           "#EF553B",
           "#00cc96",
           "#ab63fa",
           "#FFA15A",
           "#19d3f3",
           "#FF6692",
           "#B6E880",
           "#FF97FF",
           "#FECB52"
          ],
          "font": {
           "color": "#2a3f5f"
          },
          "geo": {
           "bgcolor": "white",
           "lakecolor": "white",
           "landcolor": "#E5ECF6",
           "showlakes": true,
           "showland": true,
           "subunitcolor": "white"
          },
          "hoverlabel": {
           "align": "left"
          },
          "hovermode": "closest",
          "mapbox": {
           "style": "light"
          },
          "paper_bgcolor": "white",
          "plot_bgcolor": "#E5ECF6",
          "polar": {
           "angularaxis": {
            "gridcolor": "white",
            "linecolor": "white",
            "ticks": ""
           },
           "bgcolor": "#E5ECF6",
           "radialaxis": {
            "gridcolor": "white",
            "linecolor": "white",
            "ticks": ""
           }
          },
          "scene": {
           "xaxis": {
            "backgroundcolor": "#E5ECF6",
            "gridcolor": "white",
            "gridwidth": 2,
            "linecolor": "white",
            "showbackground": true,
            "ticks": "",
            "zerolinecolor": "white"
           },
           "yaxis": {
            "backgroundcolor": "#E5ECF6",
            "gridcolor": "white",
            "gridwidth": 2,
            "linecolor": "white",
            "showbackground": true,
            "ticks": "",
            "zerolinecolor": "white"
           },
           "zaxis": {
            "backgroundcolor": "#E5ECF6",
            "gridcolor": "white",
            "gridwidth": 2,
            "linecolor": "white",
            "showbackground": true,
            "ticks": "",
            "zerolinecolor": "white"
           }
          },
          "shapedefaults": {
           "line": {
            "color": "#2a3f5f"
           }
          },
          "ternary": {
           "aaxis": {
            "gridcolor": "white",
            "linecolor": "white",
            "ticks": ""
           },
           "baxis": {
            "gridcolor": "white",
            "linecolor": "white",
            "ticks": ""
           },
           "bgcolor": "#E5ECF6",
           "caxis": {
            "gridcolor": "white",
            "linecolor": "white",
            "ticks": ""
           }
          },
          "title": {
           "x": 0.05
          },
          "xaxis": {
           "automargin": true,
           "gridcolor": "white",
           "linecolor": "white",
           "ticks": "",
           "title": {
            "standoff": 15
           },
           "zerolinecolor": "white",
           "zerolinewidth": 2
          },
          "yaxis": {
           "automargin": true,
           "gridcolor": "white",
           "linecolor": "white",
           "ticks": "",
           "title": {
            "standoff": 15
           },
           "zerolinecolor": "white",
           "zerolinewidth": 2
          }
         }
        },
        "title": {
         "text": "Number of Oxycodone-acetaminophen Prescriptions on Medicaid 2018"
        }
       }
      },
      "image/png": "[encoded data removed]",
      "text/html": [
       "<div>\n",
       "        \n",
       "        \n",
       "            <div id=\"7a6eb02e-5c7f-4900-b59a-011e06c8dfd0\" class=\"plotly-graph-div\" style=\"height:525px; width:100%;\"></div>\n",
       "            <script type=\"text/javascript\">\n",
       "                require([\"plotly\"], function(Plotly) {\n",
       "                    window.PLOTLYENV=window.PLOTLYENV || {};\n",
       "                    \n",
       "                if (document.getElementById(\"7a6eb02e-5c7f-4900-b59a-011e06c8dfd0\")) {\n",
       "                    Plotly.newPlot(\n",
       "                        '7a6eb02e-5c7f-4900-b59a-011e06c8dfd0',\n",
       "                        [{\"colorbar\": {\"title\": {\"text\": \"Number of Prescriptions\"}}, \"colorscale\": [[0.0, \"rgb(255,245,240)\"], [0.125, \"rgb(254,224,210)\"], [0.25, \"rgb(252,187,161)\"], [0.375, \"rgb(252,146,114)\"], [0.5, \"rgb(251,106,74)\"], [0.625, \"rgb(239,59,44)\"], [0.75, \"rgb(203,24,29)\"], [0.875, \"rgb(165,15,21)\"], [1.0, \"rgb(103,0,13)\"]], \"locationmode\": \"USA-states\", \"locations\": [\"AK\", \"AL\", \"AR\", \"AZ\", \"CA\", \"CO\", \"CT\", \"DE\", \"FL\", \"GA\", \"HI\", \"IA\", \"ID\", \"IL\", \"IN\", \"KS\", \"KY\", \"LA\", \"MA\", \"ME\", \"MI\", \"MN\", \"MO\", \"MS\", \"MT\", \"NC\", \"ND\", \"NE\", \"NH\", \"NJ\", \"NM\", \"NV\", \"NY\", \"OH\", \"OK\", \"OR\", \"PA\", \"RI\", \"SC\", \"SD\", \"TN\", \"TX\", \"UT\", \"VA\", \"VT\", \"WA\", \"WI\", \"WV\", \"WY\"], \"type\": \"choropleth\", \"z\": [4380.0, 46250.0, 25623.0, 59487.0, 694911.0, 36610.0, 21277.0, 1141.0, 172333.0, 92038.0, 24572.0, 9899.0, 8471.0, 106008.0, 193218.0, 13079.0, 104563.0, 107165.0, 28492.0, 7045.0, 248902.0, 21544.0, 50104.0, 43773.0, 15759.0, 74395.0, 8451.0, 8784.0, 1329.0, 15829.0, 32594.0, 69362.0, 108013.0, 138996.0, 32959.0, 19477.0, 96337.0, 13000.0, 46632.0, 1703.0, 50977.0, 51059.0, 7878.0, 43458.0, 2468.0, 30773.0, 33865.0, 43409.0, 1331.0]}],\n",
       "                        {\"geo\": {\"scope\": \"usa\"}, \"template\": {\"data\": {\"bar\": [{\"error_x\": {\"color\": \"#2a3f5f\"}, \"error_y\": {\"color\": \"#2a3f5f\"}, \"marker\": {\"line\": {\"color\": \"#E5ECF6\", \"width\": 0.5}}, \"type\": \"bar\"}], \"barpolar\": [{\"marker\": {\"line\": {\"color\": \"#E5ECF6\", \"width\": 0.5}}, \"type\": \"barpolar\"}], \"carpet\": [{\"aaxis\": {\"endlinecolor\": \"#2a3f5f\", \"gridcolor\": \"white\", \"linecolor\": \"white\", \"minorgridcolor\": \"white\", \"startlinecolor\": \"#2a3f5f\"}, \"baxis\": {\"endlinecolor\": \"#2a3f5f\", \"gridcolor\": \"white\", \"linecolor\": \"white\", \"minorgridcolor\": \"white\", \"startlinecolor\": \"#2a3f5f\"}, \"type\": \"carpet\"}], \"choropleth\": [{\"colorbar\": {\"outlinewidth\": 0, \"ticks\": \"\"}, \"type\": \"choropleth\"}], \"contour\": [{\"colorbar\": {\"outlinewidth\": 0, \"ticks\": \"\"}, \"colorscale\": [[0.0, \"#0d0887\"], [0.1111111111111111, \"#46039f\"], [0.2222222222222222, \"#7201a8\"], [0.3333333333333333, \"#9c179e\"], [0.4444444444444444, \"#bd3786\"], [0.5555555555555556, \"#d8576b\"], [0.6666666666666666, \"#ed7953\"], [0.7777777777777778, \"#fb9f3a\"], [0.8888888888888888, \"#fdca26\"], [1.0, \"#f0f921\"]], \"type\": \"contour\"}], \"contourcarpet\": [{\"colorbar\": {\"outlinewidth\": 0, \"ticks\": \"\"}, \"type\": \"contourcarpet\"}], \"heatmap\": [{\"colorbar\": {\"outlinewidth\": 0, \"ticks\": \"\"}, \"colorscale\": [[0.0, \"#0d0887\"], [0.1111111111111111, \"#46039f\"], [0.2222222222222222, \"#7201a8\"], [0.3333333333333333, \"#9c179e\"], [0.4444444444444444, \"#bd3786\"], [0.5555555555555556, \"#d8576b\"], [0.6666666666666666, \"#ed7953\"], [0.7777777777777778, \"#fb9f3a\"], [0.8888888888888888, \"#fdca26\"], [1.0, \"#f0f921\"]], \"type\": \"heatmap\"}], \"heatmapgl\": [{\"colorbar\": {\"outlinewidth\": 0, \"ticks\": \"\"}, \"colorscale\": [[0.0, \"#0d0887\"], [0.1111111111111111, \"#46039f\"], [0.2222222222222222, \"#7201a8\"], [0.3333333333333333, \"#9c179e\"], [0.4444444444444444, \"#bd3786\"], [0.5555555555555556, \"#d8576b\"], [0.6666666666666666, \"#ed7953\"], [0.7777777777777778, \"#fb9f3a\"], [0.8888888888888888, \"#fdca26\"], [1.0, \"#f0f921\"]], \"type\": \"heatmapgl\"}], \"histogram\": [{\"marker\": {\"colorbar\": {\"outlinewidth\": 0, \"ticks\": \"\"}}, \"type\": \"histogram\"}], \"histogram2d\": [{\"colorbar\": {\"outlinewidth\": 0, \"ticks\": \"\"}, \"colorscale\": [[0.0, \"#0d0887\"], [0.1111111111111111, \"#46039f\"], [0.2222222222222222, \"#7201a8\"], [0.3333333333333333, \"#9c179e\"], [0.4444444444444444, \"#bd3786\"], [0.5555555555555556, \"#d8576b\"], [0.6666666666666666, \"#ed7953\"], [0.7777777777777778, \"#fb9f3a\"], [0.8888888888888888, \"#fdca26\"], [1.0, \"#f0f921\"]], \"type\": \"histogram2d\"}], \"histogram2dcontour\": [{\"colorbar\": {\"outlinewidth\": 0, \"ticks\": \"\"}, \"colorscale\": [[0.0, \"#0d0887\"], [0.1111111111111111, \"#46039f\"], [0.2222222222222222, \"#7201a8\"], [0.3333333333333333, \"#9c179e\"], [0.4444444444444444, \"#bd3786\"], [0.5555555555555556, \"#d8576b\"], [0.6666666666666666, \"#ed7953\"], [0.7777777777777778, \"#fb9f3a\"], [0.8888888888888888, \"#fdca26\"], [1.0, \"#f0f921\"]], \"type\": \"histogram2dcontour\"}], \"mesh3d\": [{\"colorbar\": {\"outlinewidth\": 0, \"ticks\": \"\"}, \"type\": \"mesh3d\"}], \"parcoords\": [{\"line\": {\"colorbar\": {\"outlinewidth\": 0, \"ticks\": \"\"}}, \"type\": \"parcoords\"}], \"pie\": [{\"automargin\": true, \"type\": \"pie\"}], \"scatter\": [{\"marker\": {\"colorbar\": {\"outlinewidth\": 0, \"ticks\": \"\"}}, \"type\": \"scatter\"}], \"scatter3d\": [{\"line\": {\"colorbar\": {\"outlinewidth\": 0, \"ticks\": \"\"}}, \"marker\": {\"colorbar\": {\"outlinewidth\": 0, \"ticks\": \"\"}}, \"type\": \"scatter3d\"}], \"scattercarpet\": [{\"marker\": {\"colorbar\": {\"outlinewidth\": 0, \"ticks\": \"\"}}, \"type\": \"scattercarpet\"}], \"scattergeo\": [{\"marker\": {\"colorbar\": {\"outlinewidth\": 0, \"ticks\": \"\"}}, \"type\": \"scattergeo\"}], \"scattergl\": [{\"marker\": {\"colorbar\": {\"outlinewidth\": 0, \"ticks\": \"\"}}, \"type\": \"scattergl\"}], \"scattermapbox\": [{\"marker\": {\"colorbar\": {\"outlinewidth\": 0, \"ticks\": \"\"}}, \"type\": \"scattermapbox\"}], \"scatterpolar\": [{\"marker\": {\"colorbar\": {\"outlinewidth\": 0, \"ticks\": \"\"}}, \"type\": \"scatterpolar\"}], \"scatterpolargl\": [{\"marker\": {\"colorbar\": {\"outlinewidth\": 0, \"ticks\": \"\"}}, \"type\": \"scatterpolargl\"}], \"scatterternary\": [{\"marker\": {\"colorbar\": {\"outlinewidth\": 0, \"ticks\": \"\"}}, \"type\": \"scatterternary\"}], \"surface\": [{\"colorbar\": {\"outlinewidth\": 0, \"ticks\": \"\"}, \"colorscale\": [[0.0, \"#0d0887\"], [0.1111111111111111, \"#46039f\"], [0.2222222222222222, \"#7201a8\"], [0.3333333333333333, \"#9c179e\"], [0.4444444444444444, \"#bd3786\"], [0.5555555555555556, \"#d8576b\"], [0.6666666666666666, \"#ed7953\"], [0.7777777777777778, \"#fb9f3a\"], [0.8888888888888888, \"#fdca26\"], [1.0, \"#f0f921\"]], \"type\": \"surface\"}], \"table\": [{\"cells\": {\"fill\": {\"color\": \"#EBF0F8\"}, \"line\": {\"color\": \"white\"}}, \"header\": {\"fill\": {\"color\": \"#C8D4E3\"}, \"line\": {\"color\": \"white\"}}, \"type\": \"table\"}]}, \"layout\": {\"annotationdefaults\": {\"arrowcolor\": \"#2a3f5f\", \"arrowhead\": 0, \"arrowwidth\": 1}, \"coloraxis\": {\"colorbar\": {\"outlinewidth\": 0, \"ticks\": \"\"}}, \"colorscale\": {\"diverging\": [[0, \"#8e0152\"], [0.1, \"#c51b7d\"], [0.2, \"#de77ae\"], [0.3, \"#f1b6da\"], [0.4, \"#fde0ef\"], [0.5, \"#f7f7f7\"], [0.6, \"#e6f5d0\"], [0.7, \"#b8e186\"], [0.8, \"#7fbc41\"], [0.9, \"#4d9221\"], [1, \"#276419\"]], \"sequential\": [[0.0, \"#0d0887\"], [0.1111111111111111, \"#46039f\"], [0.2222222222222222, \"#7201a8\"], [0.3333333333333333, \"#9c179e\"], [0.4444444444444444, \"#bd3786\"], [0.5555555555555556, \"#d8576b\"], [0.6666666666666666, \"#ed7953\"], [0.7777777777777778, \"#fb9f3a\"], [0.8888888888888888, \"#fdca26\"], [1.0, \"#f0f921\"]], \"sequentialminus\": [[0.0, \"#0d0887\"], [0.1111111111111111, \"#46039f\"], [0.2222222222222222, \"#7201a8\"], [0.3333333333333333, \"#9c179e\"], [0.4444444444444444, \"#bd3786\"], [0.5555555555555556, \"#d8576b\"], [0.6666666666666666, \"#ed7953\"], [0.7777777777777778, \"#fb9f3a\"], [0.8888888888888888, \"#fdca26\"], [1.0, \"#f0f921\"]]}, \"colorway\": [\"#636efa\", \"#EF553B\", \"#00cc96\", \"#ab63fa\", \"#FFA15A\", \"#19d3f3\", \"#FF6692\", \"#B6E880\", \"#FF97FF\", \"#FECB52\"], \"font\": {\"color\": \"#2a3f5f\"}, \"geo\": {\"bgcolor\": \"white\", \"lakecolor\": \"white\", \"landcolor\": \"#E5ECF6\", \"showlakes\": true, \"showland\": true, \"subunitcolor\": \"white\"}, \"hoverlabel\": {\"align\": \"left\"}, \"hovermode\": \"closest\", \"mapbox\": {\"style\": \"light\"}, \"paper_bgcolor\": \"white\", \"plot_bgcolor\": \"#E5ECF6\", \"polar\": {\"angularaxis\": {\"gridcolor\": \"white\", \"linecolor\": \"white\", \"ticks\": \"\"}, \"bgcolor\": \"#E5ECF6\", \"radialaxis\": {\"gridcolor\": \"white\", \"linecolor\": \"white\", \"ticks\": \"\"}}, \"scene\": {\"xaxis\": {\"backgroundcolor\": \"#E5ECF6\", \"gridcolor\": \"white\", \"gridwidth\": 2, \"linecolor\": \"white\", \"showbackground\": true, \"ticks\": \"\", \"zerolinecolor\": \"white\"}, \"yaxis\": {\"backgroundcolor\": \"#E5ECF6\", \"gridcolor\": \"white\", \"gridwidth\": 2, \"linecolor\": \"white\", \"showbackground\": true, \"ticks\": \"\", \"zerolinecolor\": \"white\"}, \"zaxis\": {\"backgroundcolor\": \"#E5ECF6\", \"gridcolor\": \"white\", \"gridwidth\": 2, \"linecolor\": \"white\", \"showbackground\": true, \"ticks\": \"\", \"zerolinecolor\": \"white\"}}, \"shapedefaults\": {\"line\": {\"color\": \"#2a3f5f\"}}, \"ternary\": {\"aaxis\": {\"gridcolor\": \"white\", \"linecolor\": \"white\", \"ticks\": \"\"}, \"baxis\": {\"gridcolor\": \"white\", \"linecolor\": \"white\", \"ticks\": \"\"}, \"bgcolor\": \"#E5ECF6\", \"caxis\": {\"gridcolor\": \"white\", \"linecolor\": \"white\", \"ticks\": \"\"}}, \"title\": {\"x\": 0.05}, \"xaxis\": {\"automargin\": true, \"gridcolor\": \"white\", \"linecolor\": \"white\", \"ticks\": \"\", \"title\": {\"standoff\": 15}, \"zerolinecolor\": \"white\", \"zerolinewidth\": 2}, \"yaxis\": {\"automargin\": true, \"gridcolor\": \"white\", \"linecolor\": \"white\", \"ticks\": \"\", \"title\": {\"standoff\": 15}, \"zerolinecolor\": \"white\", \"zerolinewidth\": 2}}}, \"title\": {\"text\": \"Number of Oxycodone-acetaminophen Prescriptions on Medicaid 2018\"}},\n",
       "                        {\"responsive\": true}\n",
       "                    ).then(function(){\n",
       "                            \n",
       "var gd = document.getElementById('7a6eb02e-5c7f-4900-b59a-011e06c8dfd0');\n",
       "var x = new MutationObserver(function (mutations, observer) {{\n",
       "        var display = window.getComputedStyle(gd).display;\n",
       "        if (!display || display === 'none') {{\n",
       "            console.log([gd, 'removed!']);\n",
       "            Plotly.purge(gd);\n",
       "            observer.disconnect();\n",
       "        }}\n",
       "}});\n",
       "\n",
       "// Listen for the removal of the full notebook cells\n",
       "var notebookContainer = gd.closest('#notebook-container');\n",
       "if (notebookContainer) {{\n",
       "    x.observe(notebookContainer, {childList: true});\n",
       "}}\n",
       "\n",
       "// Listen for the clearing of the current output cell\n",
       "var outputEl = gd.closest('.output');\n",
       "if (outputEl) {{\n",
       "    x.observe(outputEl, {childList: true});\n",
       "}}\n",
       "\n",
       "                        })\n",
       "                };\n",
       "                });\n",
       "            </script>\n",
       "        </div>"
      ]
     },
     "metadata": {},
     "output_type": "display_data"
    }
   ],
   "source": [
    "oxy_ace = opi_sum[opi_sum['gennme'] == 'acetaminophen hydrocodone']\n",
    "\n",
    "print (oxy_ace.head())\n",
    "\n",
    "fig = go.Figure(data = go.Choropleth(\n",
    "                locations = oxy_ace['state_code'], # Spatial coordinates\n",
    "                z = oxy_ace['number_of_prescriptions'].astype(float), # Data to be color-coded\n",
    "                locationmode = 'USA-states', # set of locations match entries in `locations`\n",
    "                colorscale = 'Reds',\n",
    "                colorbar_title = \"Number of Prescriptions\",\n",
    "))\n",
    "\n",
    "fig.update_layout(\n",
    "    title_text = 'Number of Oxycodone-acetaminophen Prescriptions on Medicaid 2018',\n",
    "    geo_scope='usa', # limite map scope to USA\n",
    ")\n",
    "\n",
    "fig.show()"
   ]
  },
  {
   "cell_type": "code",
   "execution_count": null,
   "metadata": {},
   "outputs": [],
   "source": []
  }
 ],
 "metadata": {
  "kernelspec": {
   "display_name": "Python 3",
   "language": "python",
   "name": "python3"
  },
  "language_info": {
   "codemirror_mode": {
    "name": "ipython",
    "version": 3
   },
   "file_extension": ".py",
   "mimetype": "text/x-python",
   "name": "python",
   "nbconvert_exporter": "python",
   "pygments_lexer": "ipython3",
   "version": "3.7.1"
  }
 },
 "nbformat": 4,
 "nbformat_minor": 2
}
